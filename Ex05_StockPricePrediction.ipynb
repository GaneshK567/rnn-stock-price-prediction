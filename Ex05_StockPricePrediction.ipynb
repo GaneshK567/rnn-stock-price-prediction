{
  "nbformat": 4,
  "nbformat_minor": 0,
  "metadata": {
    "colab": {
      "provenance": [],
      "collapsed_sections": [],
      "include_colab_link": true
    },
    "kernelspec": {
      "name": "python3",
      "display_name": "Python 3"
    },
    "language_info": {
      "name": "python"
    }
  },
  "cells": [
    {
      "cell_type": "markdown",
      "metadata": {
        "id": "view-in-github",
        "colab_type": "text"
      },
      "source": [
        "<a href=\"https://colab.research.google.com/github/GaneshK567/rnn-stock-price-prediction/blob/main/Ex05_StockPricePrediction.ipynb\" target=\"_parent\"><img src=\"https://colab.research.google.com/assets/colab-badge.svg\" alt=\"Open In Colab\"/></a>"
      ]
    },
    {
      "cell_type": "code",
      "execution_count": 1,
      "metadata": {
        "id": "rWulUnXvE0XQ"
      },
      "outputs": [],
      "source": [
        "import numpy as np\n",
        "import matplotlib.pyplot as plt\n",
        "import pandas as pd\n",
        "from sklearn.preprocessing import MinMaxScaler\n",
        "from keras import layers\n",
        "from keras.models import Sequential"
      ]
    },
    {
      "cell_type": "code",
      "source": [
        "dataset_train = pd.read_csv('trainset.csv')\n"
      ],
      "metadata": {
        "id": "G9yM-i2fGSeD"
      },
      "execution_count": 2,
      "outputs": []
    },
    {
      "cell_type": "code",
      "source": [
        "dataset_train.columns"
      ],
      "metadata": {
        "id": "ZnNFxG1yHJXj",
        "colab": {
          "base_uri": "https://localhost:8080/"
        },
        "outputId": "511a1c3a-8923-4bc1-b6b3-a77b63d58bae"
      },
      "execution_count": 3,
      "outputs": [
        {
          "output_type": "execute_result",
          "data": {
            "text/plain": [
              "Index(['Date', 'Open', 'High', 'Low', 'Close', 'Adj Close', 'Volume'], dtype='object')"
            ]
          },
          "metadata": {},
          "execution_count": 3
        }
      ]
    },
    {
      "cell_type": "code",
      "source": [
        "dataset_train.head()"
      ],
      "metadata": {
        "id": "ioHdtmFxHSQ5",
        "colab": {
          "base_uri": "https://localhost:8080/",
          "height": 206
        },
        "outputId": "7a915599-99ae-4b87-e5cd-dca35a2af0ec"
      },
      "execution_count": 4,
      "outputs": [
        {
          "output_type": "execute_result",
          "data": {
            "text/plain": [
              "         Date        Open        High         Low       Close   Adj Close  \\\n",
              "0  2013-01-02  357.385559  361.151062  355.959839  359.288177  359.288177   \n",
              "1  2013-01-03  360.122742  363.600128  358.031342  359.496826  359.496826   \n",
              "2  2013-01-04  362.313507  368.339294  361.488861  366.600616  366.600616   \n",
              "3  2013-01-07  365.348755  367.301056  362.929504  365.001007  365.001007   \n",
              "4  2013-01-08  365.393463  365.771027  359.874359  364.280701  364.280701   \n",
              "\n",
              "    Volume  \n",
              "0  5115500  \n",
              "1  4666500  \n",
              "2  5562800  \n",
              "3  3332900  \n",
              "4  3373900  "
            ],
            "text/html": [
              "\n",
              "  <div id=\"df-22b1a9e4-c5fe-48b7-b800-45785f22e276\">\n",
              "    <div class=\"colab-df-container\">\n",
              "      <div>\n",
              "<style scoped>\n",
              "    .dataframe tbody tr th:only-of-type {\n",
              "        vertical-align: middle;\n",
              "    }\n",
              "\n",
              "    .dataframe tbody tr th {\n",
              "        vertical-align: top;\n",
              "    }\n",
              "\n",
              "    .dataframe thead th {\n",
              "        text-align: right;\n",
              "    }\n",
              "</style>\n",
              "<table border=\"1\" class=\"dataframe\">\n",
              "  <thead>\n",
              "    <tr style=\"text-align: right;\">\n",
              "      <th></th>\n",
              "      <th>Date</th>\n",
              "      <th>Open</th>\n",
              "      <th>High</th>\n",
              "      <th>Low</th>\n",
              "      <th>Close</th>\n",
              "      <th>Adj Close</th>\n",
              "      <th>Volume</th>\n",
              "    </tr>\n",
              "  </thead>\n",
              "  <tbody>\n",
              "    <tr>\n",
              "      <th>0</th>\n",
              "      <td>2013-01-02</td>\n",
              "      <td>357.385559</td>\n",
              "      <td>361.151062</td>\n",
              "      <td>355.959839</td>\n",
              "      <td>359.288177</td>\n",
              "      <td>359.288177</td>\n",
              "      <td>5115500</td>\n",
              "    </tr>\n",
              "    <tr>\n",
              "      <th>1</th>\n",
              "      <td>2013-01-03</td>\n",
              "      <td>360.122742</td>\n",
              "      <td>363.600128</td>\n",
              "      <td>358.031342</td>\n",
              "      <td>359.496826</td>\n",
              "      <td>359.496826</td>\n",
              "      <td>4666500</td>\n",
              "    </tr>\n",
              "    <tr>\n",
              "      <th>2</th>\n",
              "      <td>2013-01-04</td>\n",
              "      <td>362.313507</td>\n",
              "      <td>368.339294</td>\n",
              "      <td>361.488861</td>\n",
              "      <td>366.600616</td>\n",
              "      <td>366.600616</td>\n",
              "      <td>5562800</td>\n",
              "    </tr>\n",
              "    <tr>\n",
              "      <th>3</th>\n",
              "      <td>2013-01-07</td>\n",
              "      <td>365.348755</td>\n",
              "      <td>367.301056</td>\n",
              "      <td>362.929504</td>\n",
              "      <td>365.001007</td>\n",
              "      <td>365.001007</td>\n",
              "      <td>3332900</td>\n",
              "    </tr>\n",
              "    <tr>\n",
              "      <th>4</th>\n",
              "      <td>2013-01-08</td>\n",
              "      <td>365.393463</td>\n",
              "      <td>365.771027</td>\n",
              "      <td>359.874359</td>\n",
              "      <td>364.280701</td>\n",
              "      <td>364.280701</td>\n",
              "      <td>3373900</td>\n",
              "    </tr>\n",
              "  </tbody>\n",
              "</table>\n",
              "</div>\n",
              "      <button class=\"colab-df-convert\" onclick=\"convertToInteractive('df-22b1a9e4-c5fe-48b7-b800-45785f22e276')\"\n",
              "              title=\"Convert this dataframe to an interactive table.\"\n",
              "              style=\"display:none;\">\n",
              "        \n",
              "  <svg xmlns=\"http://www.w3.org/2000/svg\" height=\"24px\"viewBox=\"0 0 24 24\"\n",
              "       width=\"24px\">\n",
              "    <path d=\"M0 0h24v24H0V0z\" fill=\"none\"/>\n",
              "    <path d=\"M18.56 5.44l.94 2.06.94-2.06 2.06-.94-2.06-.94-.94-2.06-.94 2.06-2.06.94zm-11 1L8.5 8.5l.94-2.06 2.06-.94-2.06-.94L8.5 2.5l-.94 2.06-2.06.94zm10 10l.94 2.06.94-2.06 2.06-.94-2.06-.94-.94-2.06-.94 2.06-2.06.94z\"/><path d=\"M17.41 7.96l-1.37-1.37c-.4-.4-.92-.59-1.43-.59-.52 0-1.04.2-1.43.59L10.3 9.45l-7.72 7.72c-.78.78-.78 2.05 0 2.83L4 21.41c.39.39.9.59 1.41.59.51 0 1.02-.2 1.41-.59l7.78-7.78 2.81-2.81c.8-.78.8-2.07 0-2.86zM5.41 20L4 18.59l7.72-7.72 1.47 1.35L5.41 20z\"/>\n",
              "  </svg>\n",
              "      </button>\n",
              "      \n",
              "  <style>\n",
              "    .colab-df-container {\n",
              "      display:flex;\n",
              "      flex-wrap:wrap;\n",
              "      gap: 12px;\n",
              "    }\n",
              "\n",
              "    .colab-df-convert {\n",
              "      background-color: #E8F0FE;\n",
              "      border: none;\n",
              "      border-radius: 50%;\n",
              "      cursor: pointer;\n",
              "      display: none;\n",
              "      fill: #1967D2;\n",
              "      height: 32px;\n",
              "      padding: 0 0 0 0;\n",
              "      width: 32px;\n",
              "    }\n",
              "\n",
              "    .colab-df-convert:hover {\n",
              "      background-color: #E2EBFA;\n",
              "      box-shadow: 0px 1px 2px rgba(60, 64, 67, 0.3), 0px 1px 3px 1px rgba(60, 64, 67, 0.15);\n",
              "      fill: #174EA6;\n",
              "    }\n",
              "\n",
              "    [theme=dark] .colab-df-convert {\n",
              "      background-color: #3B4455;\n",
              "      fill: #D2E3FC;\n",
              "    }\n",
              "\n",
              "    [theme=dark] .colab-df-convert:hover {\n",
              "      background-color: #434B5C;\n",
              "      box-shadow: 0px 1px 3px 1px rgba(0, 0, 0, 0.15);\n",
              "      filter: drop-shadow(0px 1px 2px rgba(0, 0, 0, 0.3));\n",
              "      fill: #FFFFFF;\n",
              "    }\n",
              "  </style>\n",
              "\n",
              "      <script>\n",
              "        const buttonEl =\n",
              "          document.querySelector('#df-22b1a9e4-c5fe-48b7-b800-45785f22e276 button.colab-df-convert');\n",
              "        buttonEl.style.display =\n",
              "          google.colab.kernel.accessAllowed ? 'block' : 'none';\n",
              "\n",
              "        async function convertToInteractive(key) {\n",
              "          const element = document.querySelector('#df-22b1a9e4-c5fe-48b7-b800-45785f22e276');\n",
              "          const dataTable =\n",
              "            await google.colab.kernel.invokeFunction('convertToInteractive',\n",
              "                                                     [key], {});\n",
              "          if (!dataTable) return;\n",
              "\n",
              "          const docLinkHtml = 'Like what you see? Visit the ' +\n",
              "            '<a target=\"_blank\" href=https://colab.research.google.com/notebooks/data_table.ipynb>data table notebook</a>'\n",
              "            + ' to learn more about interactive tables.';\n",
              "          element.innerHTML = '';\n",
              "          dataTable['output_type'] = 'display_data';\n",
              "          await google.colab.output.renderOutput(dataTable, element);\n",
              "          const docLink = document.createElement('div');\n",
              "          docLink.innerHTML = docLinkHtml;\n",
              "          element.appendChild(docLink);\n",
              "        }\n",
              "      </script>\n",
              "    </div>\n",
              "  </div>\n",
              "  "
            ]
          },
          "metadata": {},
          "execution_count": 4
        }
      ]
    },
    {
      "cell_type": "code",
      "source": [
        "train_set = dataset_train.iloc[:,1:2].values"
      ],
      "metadata": {
        "id": "od_Jh97fHxsp"
      },
      "execution_count": 5,
      "outputs": []
    },
    {
      "cell_type": "code",
      "source": [
        "type(train_set)"
      ],
      "metadata": {
        "id": "ipOhkvP0H8Ki",
        "colab": {
          "base_uri": "https://localhost:8080/"
        },
        "outputId": "d57ae14f-d6ce-455b-ebc5-8dad0454e310"
      },
      "execution_count": 6,
      "outputs": [
        {
          "output_type": "execute_result",
          "data": {
            "text/plain": [
              "numpy.ndarray"
            ]
          },
          "metadata": {},
          "execution_count": 6
        }
      ]
    },
    {
      "cell_type": "code",
      "source": [
        "train_set.shape"
      ],
      "metadata": {
        "id": "10qpaYabITYB",
        "colab": {
          "base_uri": "https://localhost:8080/"
        },
        "outputId": "06484d27-f933-48ad-e3f6-2ac227bb6fdd"
      },
      "execution_count": 7,
      "outputs": [
        {
          "output_type": "execute_result",
          "data": {
            "text/plain": [
              "(1259, 1)"
            ]
          },
          "metadata": {},
          "execution_count": 7
        }
      ]
    },
    {
      "cell_type": "code",
      "source": [
        "sc = MinMaxScaler(feature_range=(0,1))\n",
        "training_set_scaled = sc.fit_transform(train_set)"
      ],
      "metadata": {
        "id": "Wc5QNHisIMcp"
      },
      "execution_count": 8,
      "outputs": []
    },
    {
      "cell_type": "code",
      "source": [
        "training_set_scaled.shape"
      ],
      "metadata": {
        "id": "VYMccXBzjMzz",
        "colab": {
          "base_uri": "https://localhost:8080/"
        },
        "outputId": "5c7b34ce-2389-4720-9c17-cf5608592dd3"
      },
      "execution_count": 9,
      "outputs": [
        {
          "output_type": "execute_result",
          "data": {
            "text/plain": [
              "(1259, 1)"
            ]
          },
          "metadata": {},
          "execution_count": 9
        }
      ]
    },
    {
      "cell_type": "code",
      "source": [
        "X_train_array = []\n",
        "y_train_array = []\n",
        "for i in range(60, 1259):\n",
        "  X_train_array.append(training_set_scaled[i-60:i,0])\n",
        "  y_train_array.append(training_set_scaled[i,0])\n",
        "X_train, y_train = np.array(X_train_array), np.array(y_train_array)\n",
        "X_train1 = X_train.reshape((X_train.shape[0], X_train.shape[1],1))\n"
      ],
      "metadata": {
        "id": "qO7NJjsCI1qq"
      },
      "execution_count": 10,
      "outputs": []
    },
    {
      "cell_type": "code",
      "source": [
        "X_train.shape"
      ],
      "metadata": {
        "id": "0rRZyii1IWmq",
        "colab": {
          "base_uri": "https://localhost:8080/"
        },
        "outputId": "e9e5f2cc-2787-4c43-bc46-fef290179de7"
      },
      "execution_count": 11,
      "outputs": [
        {
          "output_type": "execute_result",
          "data": {
            "text/plain": [
              "(1199, 60)"
            ]
          },
          "metadata": {},
          "execution_count": 11
        }
      ]
    },
    {
      "cell_type": "code",
      "source": [
        "length = 60\n",
        "n_features = 1"
      ],
      "metadata": {
        "id": "BknoiyHTN_tb"
      },
      "execution_count": 12,
      "outputs": []
    },
    {
      "cell_type": "code",
      "source": [
        "model = Sequential([layers.SimpleRNN(50,input_shape=(60,1)),\n",
        "                    layers.Dense(1)\n",
        "                    ])\n",
        "\n",
        "model.compile(optimizer='Adam', loss='mae')"
      ],
      "metadata": {
        "id": "tb1wq3smJuDF"
      },
      "execution_count": 15,
      "outputs": []
    },
    {
      "cell_type": "code",
      "source": [
        "model.summary()"
      ],
      "metadata": {
        "id": "RmitWR-Qk500",
        "colab": {
          "base_uri": "https://localhost:8080/"
        },
        "outputId": "878750db-5f9e-4cdc-e955-6b19604f0ae3"
      },
      "execution_count": 16,
      "outputs": [
        {
          "output_type": "stream",
          "name": "stdout",
          "text": [
            "Model: \"sequential_2\"\n",
            "_________________________________________________________________\n",
            " Layer (type)                Output Shape              Param #   \n",
            "=================================================================\n",
            " simple_rnn_2 (SimpleRNN)    (None, 50)                2600      \n",
            "                                                                 \n",
            " dense_2 (Dense)             (None, 1)                 51        \n",
            "                                                                 \n",
            "=================================================================\n",
            "Total params: 2,651\n",
            "Trainable params: 2,651\n",
            "Non-trainable params: 0\n",
            "_________________________________________________________________\n"
          ]
        }
      ]
    },
    {
      "cell_type": "code",
      "source": [
        "model.fit(X_train1,y_train,epochs=100, batch_size=32)"
      ],
      "metadata": {
        "id": "fXZtPWTgO5T7",
        "colab": {
          "base_uri": "https://localhost:8080/"
        },
        "outputId": "460459fb-96e0-4a3f-e8d2-707633ec1e8b"
      },
      "execution_count": 17,
      "outputs": [
        {
          "output_type": "stream",
          "name": "stdout",
          "text": [
            "Epoch 1/100\n",
            "38/38 [==============================] - 2s 13ms/step - loss: 0.0209\n",
            "Epoch 2/100\n",
            "38/38 [==============================] - 0s 12ms/step - loss: 0.0154\n",
            "Epoch 3/100\n",
            "38/38 [==============================] - 0s 12ms/step - loss: 0.0113\n",
            "Epoch 4/100\n",
            "38/38 [==============================] - 0s 12ms/step - loss: 0.0132\n",
            "Epoch 5/100\n",
            "38/38 [==============================] - 0s 12ms/step - loss: 0.0112\n",
            "Epoch 6/100\n",
            "38/38 [==============================] - 0s 12ms/step - loss: 0.0126\n",
            "Epoch 7/100\n",
            "38/38 [==============================] - 0s 11ms/step - loss: 0.0116\n",
            "Epoch 8/100\n",
            "38/38 [==============================] - 0s 12ms/step - loss: 0.0112\n",
            "Epoch 9/100\n",
            "38/38 [==============================] - 0s 12ms/step - loss: 0.0128\n",
            "Epoch 10/100\n",
            "38/38 [==============================] - 0s 13ms/step - loss: 0.0111\n",
            "Epoch 11/100\n",
            "38/38 [==============================] - 0s 12ms/step - loss: 0.0099\n",
            "Epoch 12/100\n",
            "38/38 [==============================] - 0s 12ms/step - loss: 0.0096\n",
            "Epoch 13/100\n",
            "38/38 [==============================] - 0s 12ms/step - loss: 0.0103\n",
            "Epoch 14/100\n",
            "38/38 [==============================] - 0s 12ms/step - loss: 0.0104\n",
            "Epoch 15/100\n",
            "38/38 [==============================] - 0s 12ms/step - loss: 0.0096\n",
            "Epoch 16/100\n",
            "38/38 [==============================] - 0s 12ms/step - loss: 0.0108\n",
            "Epoch 17/100\n",
            "38/38 [==============================] - 0s 12ms/step - loss: 0.0107\n",
            "Epoch 18/100\n",
            "38/38 [==============================] - 0s 12ms/step - loss: 0.0099\n",
            "Epoch 19/100\n",
            "38/38 [==============================] - 0s 12ms/step - loss: 0.0096\n",
            "Epoch 20/100\n",
            "38/38 [==============================] - 0s 12ms/step - loss: 0.0095\n",
            "Epoch 21/100\n",
            "38/38 [==============================] - 0s 12ms/step - loss: 0.0099\n",
            "Epoch 22/100\n",
            "38/38 [==============================] - 0s 13ms/step - loss: 0.0094\n",
            "Epoch 23/100\n",
            "38/38 [==============================] - 0s 13ms/step - loss: 0.0089\n",
            "Epoch 24/100\n",
            "38/38 [==============================] - 0s 12ms/step - loss: 0.0090\n",
            "Epoch 25/100\n",
            "38/38 [==============================] - 0s 12ms/step - loss: 0.0100\n",
            "Epoch 26/100\n",
            "38/38 [==============================] - 0s 12ms/step - loss: 0.0089\n",
            "Epoch 27/100\n",
            "38/38 [==============================] - 0s 12ms/step - loss: 0.0092\n",
            "Epoch 28/100\n",
            "38/38 [==============================] - 0s 12ms/step - loss: 0.0092\n",
            "Epoch 29/100\n",
            "38/38 [==============================] - 0s 13ms/step - loss: 0.0090\n",
            "Epoch 30/100\n",
            "38/38 [==============================] - 0s 12ms/step - loss: 0.0097\n",
            "Epoch 31/100\n",
            "38/38 [==============================] - 1s 11ms/step - loss: 0.0091\n",
            "Epoch 32/100\n",
            "38/38 [==============================] - 0s 12ms/step - loss: 0.0094\n",
            "Epoch 33/100\n",
            "38/38 [==============================] - 0s 11ms/step - loss: 0.0102\n",
            "Epoch 34/100\n",
            "38/38 [==============================] - 0s 12ms/step - loss: 0.0091\n",
            "Epoch 35/100\n",
            "38/38 [==============================] - 0s 12ms/step - loss: 0.0099\n",
            "Epoch 36/100\n",
            "38/38 [==============================] - 0s 12ms/step - loss: 0.0089\n",
            "Epoch 37/100\n",
            "38/38 [==============================] - 0s 12ms/step - loss: 0.0094\n",
            "Epoch 38/100\n",
            "38/38 [==============================] - 0s 12ms/step - loss: 0.0092\n",
            "Epoch 39/100\n",
            "38/38 [==============================] - 0s 12ms/step - loss: 0.0101\n",
            "Epoch 40/100\n",
            "38/38 [==============================] - 0s 12ms/step - loss: 0.0090\n",
            "Epoch 41/100\n",
            "38/38 [==============================] - 0s 12ms/step - loss: 0.0093\n",
            "Epoch 42/100\n",
            "38/38 [==============================] - 0s 12ms/step - loss: 0.0092\n",
            "Epoch 43/100\n",
            "38/38 [==============================] - 0s 13ms/step - loss: 0.0088\n",
            "Epoch 44/100\n",
            "38/38 [==============================] - 0s 12ms/step - loss: 0.0093\n",
            "Epoch 45/100\n",
            "38/38 [==============================] - 0s 13ms/step - loss: 0.0102\n",
            "Epoch 46/100\n",
            "38/38 [==============================] - 0s 12ms/step - loss: 0.0085\n",
            "Epoch 47/100\n",
            "38/38 [==============================] - 0s 12ms/step - loss: 0.0091\n",
            "Epoch 48/100\n",
            "38/38 [==============================] - 0s 12ms/step - loss: 0.0090\n",
            "Epoch 49/100\n",
            "38/38 [==============================] - 0s 12ms/step - loss: 0.0093\n",
            "Epoch 50/100\n",
            "38/38 [==============================] - 0s 13ms/step - loss: 0.0087\n",
            "Epoch 51/100\n",
            "38/38 [==============================] - 0s 12ms/step - loss: 0.0091\n",
            "Epoch 52/100\n",
            "38/38 [==============================] - 0s 12ms/step - loss: 0.0091\n",
            "Epoch 53/100\n",
            "38/38 [==============================] - 0s 11ms/step - loss: 0.0085\n",
            "Epoch 54/100\n",
            "38/38 [==============================] - 0s 12ms/step - loss: 0.0087\n",
            "Epoch 55/100\n",
            "38/38 [==============================] - 0s 13ms/step - loss: 0.0090\n",
            "Epoch 56/100\n",
            "38/38 [==============================] - 0s 12ms/step - loss: 0.0087\n",
            "Epoch 57/100\n",
            "38/38 [==============================] - 0s 12ms/step - loss: 0.0090\n",
            "Epoch 58/100\n",
            "38/38 [==============================] - 0s 12ms/step - loss: 0.0095\n",
            "Epoch 59/100\n",
            "38/38 [==============================] - 0s 11ms/step - loss: 0.0090\n",
            "Epoch 60/100\n",
            "38/38 [==============================] - 0s 12ms/step - loss: 0.0090\n",
            "Epoch 61/100\n",
            "38/38 [==============================] - 0s 13ms/step - loss: 0.0092\n",
            "Epoch 62/100\n",
            "38/38 [==============================] - 0s 12ms/step - loss: 0.0093\n",
            "Epoch 63/100\n",
            "38/38 [==============================] - 0s 12ms/step - loss: 0.0091\n",
            "Epoch 64/100\n",
            "38/38 [==============================] - 0s 12ms/step - loss: 0.0089\n",
            "Epoch 65/100\n",
            "38/38 [==============================] - 0s 13ms/step - loss: 0.0109\n",
            "Epoch 66/100\n",
            "38/38 [==============================] - 0s 12ms/step - loss: 0.0093\n",
            "Epoch 67/100\n",
            "38/38 [==============================] - 0s 13ms/step - loss: 0.0091\n",
            "Epoch 68/100\n",
            "38/38 [==============================] - 0s 12ms/step - loss: 0.0088\n",
            "Epoch 69/100\n",
            "38/38 [==============================] - 0s 12ms/step - loss: 0.0092\n",
            "Epoch 70/100\n",
            "38/38 [==============================] - 0s 12ms/step - loss: 0.0092\n",
            "Epoch 71/100\n",
            "38/38 [==============================] - 0s 12ms/step - loss: 0.0088\n",
            "Epoch 72/100\n",
            "38/38 [==============================] - 0s 12ms/step - loss: 0.0099\n",
            "Epoch 73/100\n",
            "38/38 [==============================] - 0s 12ms/step - loss: 0.0090\n",
            "Epoch 74/100\n",
            "38/38 [==============================] - 0s 12ms/step - loss: 0.0090\n",
            "Epoch 75/100\n",
            "38/38 [==============================] - 0s 12ms/step - loss: 0.0085\n",
            "Epoch 76/100\n",
            "38/38 [==============================] - 0s 12ms/step - loss: 0.0087\n",
            "Epoch 77/100\n",
            "38/38 [==============================] - 0s 12ms/step - loss: 0.0091\n",
            "Epoch 78/100\n",
            "38/38 [==============================] - 0s 12ms/step - loss: 0.0089\n",
            "Epoch 79/100\n",
            "38/38 [==============================] - 0s 12ms/step - loss: 0.0088\n",
            "Epoch 80/100\n",
            "38/38 [==============================] - 0s 12ms/step - loss: 0.0091\n",
            "Epoch 81/100\n",
            "38/38 [==============================] - 0s 12ms/step - loss: 0.0087\n",
            "Epoch 82/100\n",
            "38/38 [==============================] - 0s 13ms/step - loss: 0.0087\n",
            "Epoch 83/100\n",
            "38/38 [==============================] - 0s 12ms/step - loss: 0.0090\n",
            "Epoch 84/100\n",
            "38/38 [==============================] - 0s 12ms/step - loss: 0.0089\n",
            "Epoch 85/100\n",
            "38/38 [==============================] - 0s 12ms/step - loss: 0.0093\n",
            "Epoch 86/100\n",
            "38/38 [==============================] - 0s 12ms/step - loss: 0.0091\n",
            "Epoch 87/100\n",
            "38/38 [==============================] - 0s 12ms/step - loss: 0.0088\n",
            "Epoch 88/100\n",
            "38/38 [==============================] - 0s 12ms/step - loss: 0.0099\n",
            "Epoch 89/100\n",
            "38/38 [==============================] - 0s 12ms/step - loss: 0.0092\n",
            "Epoch 90/100\n",
            "38/38 [==============================] - 0s 12ms/step - loss: 0.0094\n",
            "Epoch 91/100\n",
            "38/38 [==============================] - 0s 13ms/step - loss: 0.0094\n",
            "Epoch 92/100\n",
            "38/38 [==============================] - 0s 12ms/step - loss: 0.0086\n",
            "Epoch 93/100\n",
            "38/38 [==============================] - 0s 12ms/step - loss: 0.0088\n",
            "Epoch 94/100\n",
            "38/38 [==============================] - 0s 12ms/step - loss: 0.0088\n",
            "Epoch 95/100\n",
            "38/38 [==============================] - 0s 12ms/step - loss: 0.0093\n",
            "Epoch 96/100\n",
            "38/38 [==============================] - 0s 12ms/step - loss: 0.0088\n",
            "Epoch 97/100\n",
            "38/38 [==============================] - 0s 12ms/step - loss: 0.0087\n",
            "Epoch 98/100\n",
            "38/38 [==============================] - 0s 13ms/step - loss: 0.0090\n",
            "Epoch 99/100\n",
            "38/38 [==============================] - 0s 12ms/step - loss: 0.0087\n",
            "Epoch 100/100\n",
            "38/38 [==============================] - 0s 12ms/step - loss: 0.0087\n"
          ]
        },
        {
          "output_type": "execute_result",
          "data": {
            "text/plain": [
              "<keras.callbacks.History at 0x7f88bd4a28d0>"
            ]
          },
          "metadata": {},
          "execution_count": 17
        }
      ]
    },
    {
      "cell_type": "code",
      "source": [
        "dataset_test = pd.read_csv('testset.csv')"
      ],
      "metadata": {
        "id": "OJzVwjRmPqDb"
      },
      "execution_count": 18,
      "outputs": []
    },
    {
      "cell_type": "code",
      "source": [
        "test_set = dataset_test.iloc[:,1:2].values"
      ],
      "metadata": {
        "id": "JPrrd1n-Px7o"
      },
      "execution_count": 19,
      "outputs": []
    },
    {
      "cell_type": "code",
      "source": [
        "test_set.shape"
      ],
      "metadata": {
        "id": "WQgU2aH0bHZy",
        "colab": {
          "base_uri": "https://localhost:8080/"
        },
        "outputId": "318e7692-e3c7-4c1a-bddb-cc1acfe9acc1"
      },
      "execution_count": 20,
      "outputs": [
        {
          "output_type": "execute_result",
          "data": {
            "text/plain": [
              "(125, 1)"
            ]
          },
          "metadata": {},
          "execution_count": 20
        }
      ]
    },
    {
      "cell_type": "code",
      "source": [
        "dataset_total = pd.concat((dataset_train['Open'],dataset_test['Open']),axis=0)"
      ],
      "metadata": {
        "id": "jqBvI7uQa8dz"
      },
      "execution_count": 21,
      "outputs": []
    },
    {
      "cell_type": "code",
      "source": [
        "inputs = dataset_total.values\n",
        "inputs = inputs.reshape(-1,1)\n",
        "inputs_scaled=sc.transform(inputs)\n",
        "X_test = []\n",
        "for i in range(60,1384):\n",
        "  X_test.append(inputs_scaled[i-60:i,0])\n",
        "X_test = np.array(X_test)\n",
        "X_test = np.reshape(X_test,(X_test.shape[0], X_test.shape[1],1))"
      ],
      "metadata": {
        "id": "V6w4Dq01QJXk"
      },
      "execution_count": 22,
      "outputs": []
    },
    {
      "cell_type": "code",
      "source": [
        "X_test.shape"
      ],
      "metadata": {
        "id": "zup_dSFXbqed",
        "colab": {
          "base_uri": "https://localhost:8080/"
        },
        "outputId": "96b4d5b8-3d71-47d2-b6c7-a38770a05a06"
      },
      "execution_count": 23,
      "outputs": [
        {
          "output_type": "execute_result",
          "data": {
            "text/plain": [
              "(1324, 60, 1)"
            ]
          },
          "metadata": {},
          "execution_count": 23
        }
      ]
    },
    {
      "cell_type": "code",
      "source": [
        "predicted_stock_price_scaled = model.predict(X_test)\n",
        "predicted_stock_price = sc.inverse_transform(predicted_stock_price_scaled)"
      ],
      "metadata": {
        "id": "M02bWmdhRneT"
      },
      "execution_count": 24,
      "outputs": []
    },
    {
      "cell_type": "code",
      "source": [
        "plt.plot(np.arange(0,1384),inputs, color='red', label = 'Test(Real) Google stock price')\n",
        "plt.plot(np.arange(60,1384),predicted_stock_price, color='blue', label = 'Predicted Google stock price')\n",
        "plt.title('Google Stock Price Prediction')\n",
        "plt.xlabel('Time')\n",
        "plt.ylabel('Google Stock Price')\n",
        "plt.legend()\n",
        "plt.show()"
      ],
      "metadata": {
        "id": "60GZR-9ZR34C",
        "colab": {
          "base_uri": "https://localhost:8080/",
          "height": 295
        },
        "outputId": "4e184a81-5686-46c8-ae5b-39311a780ac9"
      },
      "execution_count": 25,
      "outputs": [
        {
          "output_type": "display_data",
          "data": {
            "text/plain": [
              "<Figure size 432x288 with 1 Axes>"
            ],
            "image/png": "[encoded data removed]"
          },
          "metadata": {
            "needs_background": "light"
          }
        }
      ]
    }
  ]
}